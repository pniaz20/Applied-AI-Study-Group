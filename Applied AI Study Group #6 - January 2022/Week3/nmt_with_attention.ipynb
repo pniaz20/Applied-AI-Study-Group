{
 "cells": [
  {
   "cell_type": "markdown",
   "source": [
    "# NMT: Neural Machine Translation With Attention\n",
    "\n",
    "In this notebook we will implement a RNN based sequence-to-sequence encoder-decoder architecture to translate one language to another using PyTorch. The model is from [Neural Machine Translation by Jointly Learning to Align and Translate](https://arxiv.org/abs/1409.0473) by D Bahdanau, K Cho, Y Bengio.\n",
    ".\n",
    "\n",
    "**We will:**\n",
    "* Get the necessary data and try to represent a language\n",
    "* Preprocess the data to create pairs of utterences and create dataset splits with tokenization\n",
    "* Formulate the NMT task, and create, convert input-output pairs according to the task\n",
    "* Implement the Encoder, Attention, Decoder models in PyTorch\n",
    "* Combine these models to create Seq2Seq model its sequential forward pass.\n",
    "* Implement the training loop, train the model\n",
    "* Implement inference to translate at our will.\n",
    "* Check attention map to understand relation between input and output sentence.\n",
    "* Save and load the model"
   ],
   "metadata": {
    "collapsed": false,
    "pycharm": {
     "name": "#%% md\n"
    }
   }
  },
  {
   "cell_type": "markdown",
   "source": [
    "## Diagrams to understand NMT with Attention"
   ],
   "metadata": {
    "collapsed": false,
    "pycharm": {
     "name": "#%% md\n"
    }
   }
  },
  {
   "cell_type": "markdown",
   "source": [
    "___________\n",
    "NMT task formulation\n",
    "\n",
    "![nmt_task_formulation.drawio.png](nmt_task_formulation.drawio.png)"
   ],
   "metadata": {
    "collapsed": false,
    "pycharm": {
     "name": "#%% md\n"
    }
   }
  },
  {
   "cell_type": "markdown",
   "source": [
    "_______\n",
    "\n",
    "General Encoder Decoder Model\n",
    "\n",
    "\n",
    "![](nmt_task_formulation-general_encoder_decoder_model.drawio.png)\n",
    "_____"
   ],
   "metadata": {
    "collapsed": false,
    "pycharm": {
     "name": "#%% md\n"
    }
   }
  },
  {
   "cell_type": "markdown",
   "metadata": {
    "collapsed": true,
    "pycharm": {
     "name": "#%% md\n"
    }
   },
   "source": [
    "sources:\n",
    "- https://pytorch.org/tutorials/intermediate/seq2seq_translation_tutorial.html\n",
    "- https://pytorch.org/tutorials/beginner/torchtext_translation_tutorial.html\n",
    "- https://sh-tsang.medium.com/review-neural-machine-translation-by-jointly-learning-to-align-and-translate-3b381fc032e3\n",
    "- https://arxiv.org/pdf/1409.0473.pdf\n",
    "- https://lilianweng.github.io/lil-log/2018/06/24/attention-attention.html\n",
    "- https://jalammar.github.io/visualizing-neural-machine-translation-mechanics-of-seq2seq-models-with-attention/"
   ]
  },
  {
   "cell_type": "markdown",
   "source": [
    "First we import all the required modules."
   ],
   "metadata": {
    "collapsed": false,
    "pycharm": {
     "name": "#%% md\n"
    }
   }
  },
  {
   "cell_type": "code",
   "execution_count": 9,
   "outputs": [],
   "source": [
    "from __future__ import unicode_literals, print_function, division\n",
    "from io import open\n",
    "import unicodedata\n",
    "import math\n",
    "import time\n",
    "import re\n",
    "import random\n",
    "from math import floor\n",
    "from typing import Tuple, List, Optional\n",
    "from torch.utils.data import Dataset, DataLoader, random_split\n",
    "\n",
    "import torch\n",
    "import torch.nn as nn\n",
    "from torch import optim, Tensor\n",
    "import torch.nn.functional as F\n",
    "\n",
    "import matplotlib.pyplot as plt\n",
    "\n",
    "plt.switch_backend('agg')\n",
    "import matplotlib.ticker as ticker\n",
    "import numpy as np\n",
    "from datasets import tqdm\n",
    "import requests\n",
    "import zipfile"
   ],
   "metadata": {
    "collapsed": false,
    "pycharm": {
     "name": "#%%\n"
    }
   }
  },
  {
   "cell_type": "code",
   "execution_count": 3,
   "outputs": [],
   "source": [
    "%matplotlib inline"
   ],
   "metadata": {
    "collapsed": false,
    "pycharm": {
     "name": "#%%\n"
    }
   }
  },
  {
   "cell_type": "code",
   "execution_count": 4,
   "outputs": [
    {
     "name": "stdout",
     "output_type": "stream",
     "text": [
      "cuda\n"
     ]
    }
   ],
   "source": [
    "device = torch.device(\"cuda\" if torch.cuda.is_available() else \"cpu\")\n",
    "print(device)"
   ],
   "metadata": {
    "collapsed": false,
    "pycharm": {
     "name": "#%%\n"
    }
   }
  },
  {
   "cell_type": "markdown",
   "source": [
    "Set the random seeds for reproducability."
   ],
   "metadata": {
    "collapsed": false,
    "pycharm": {
     "name": "#%% md\n"
    }
   }
  },
  {
   "cell_type": "code",
   "execution_count": 5,
   "outputs": [],
   "source": [
    "SEED = 1234\n",
    "\n",
    "random.seed(SEED)\n",
    "torch.manual_seed(SEED)\n",
    "torch.backends.cudnn.deterministic = True"
   ],
   "metadata": {
    "collapsed": false,
    "pycharm": {
     "name": "#%%\n"
    }
   }
  },
  {
   "cell_type": "markdown",
   "source": [
    " # Download Data"
   ],
   "metadata": {
    "collapsed": false,
    "pycharm": {
     "name": "#%% md\n"
    }
   }
  },
  {
   "cell_type": "code",
   "execution_count": 14,
   "outputs": [],
   "source": [
    "def download_data(url, save_name=\"new_data.zip\"):\n",
    "    r = requests.get(url, stream=True)\n",
    "\n",
    "    bar = tqdm(\n",
    "        total=int(r.headers[\"Content-Length\"]),\n",
    "        initial=0,\n",
    "        unit='B',\n",
    "        unit_scale=True,\n",
    "    )\n",
    "\n",
    "    with open(save_name, \"wb\") as f:\n",
    "        for chunk in r.iter_content(chunk_size=1024):\n",
    "            if chunk:\n",
    "                f.write(chunk)\n",
    "                bar.update(1024)\n",
    "    bar.close()\n",
    "\n",
    "# TODO: make this work actaully!\n",
    "def extract_data(saved_name=\"new_data.zip\"):\n",
    "    zipfile.ZipFile(saved_name).extractall()"
   ],
   "metadata": {
    "collapsed": false,
    "pycharm": {
     "name": "#%%\n"
    }
   }
  },
  {
   "cell_type": "code",
   "execution_count": 15,
   "outputs": [
    {
     "data": {
      "text/plain": "  0%|          | 0.00/2.88M [00:00<?, ?B/s]",
      "application/vnd.jupyter.widget-view+json": {
       "version_major": 2,
       "version_minor": 0,
       "model_id": "fc4487de38c84bec84b0ea30f1b4886a"
      }
     },
     "metadata": {},
     "output_type": "display_data"
    }
   ],
   "source": [
    "data_url = \"https://download.pytorch.org/tutorial/data.zip\"\n",
    "download_data(data_url)"
   ],
   "metadata": {
    "collapsed": false,
    "pycharm": {
     "name": "#%%\n"
    }
   }
  },
  {
   "cell_type": "code",
   "execution_count": 16,
   "outputs": [
    {
     "ename": "PermissionError",
     "evalue": "[Errno 13] Permission denied: '/target'",
     "output_type": "error",
     "traceback": [
      "\u001B[0;31m---------------------------------------------------------------------------\u001B[0m",
      "\u001B[0;31mPermissionError\u001B[0m                           Traceback (most recent call last)",
      "\u001B[0;32m/tmp/ipykernel_99696/1275108035.py\u001B[0m in \u001B[0;36m<module>\u001B[0;34m\u001B[0m\n\u001B[0;32m----> 1\u001B[0;31m \u001B[0mextract_data\u001B[0m\u001B[0;34m(\u001B[0m\u001B[0;34m)\u001B[0m\u001B[0;34m\u001B[0m\u001B[0;34m\u001B[0m\u001B[0m\n\u001B[0m",
      "\u001B[0;32m/tmp/ipykernel_99696/3113093530.py\u001B[0m in \u001B[0;36mextract_data\u001B[0;34m(saved_name)\u001B[0m\n\u001B[1;32m     18\u001B[0m \u001B[0;34m\u001B[0m\u001B[0m\n\u001B[1;32m     19\u001B[0m \u001B[0;32mdef\u001B[0m \u001B[0mextract_data\u001B[0m\u001B[0;34m(\u001B[0m\u001B[0msaved_name\u001B[0m\u001B[0;34m=\u001B[0m\u001B[0;34m\"new_data.zip\"\u001B[0m\u001B[0;34m)\u001B[0m\u001B[0;34m:\u001B[0m\u001B[0;34m\u001B[0m\u001B[0;34m\u001B[0m\u001B[0m\n\u001B[0;32m---> 20\u001B[0;31m     \u001B[0mzipfile\u001B[0m\u001B[0;34m.\u001B[0m\u001B[0mZipFile\u001B[0m\u001B[0;34m(\u001B[0m\u001B[0msaved_name\u001B[0m\u001B[0;34m)\u001B[0m\u001B[0;34m.\u001B[0m\u001B[0mextractall\u001B[0m\u001B[0;34m(\u001B[0m\u001B[0;34m\"/target\"\u001B[0m\u001B[0;34m)\u001B[0m\u001B[0;34m\u001B[0m\u001B[0;34m\u001B[0m\u001B[0m\n\u001B[0m",
      "\u001B[0;32m/opt/anaconda3/envs/lit_template/lib/python3.8/zipfile.py\u001B[0m in \u001B[0;36mextractall\u001B[0;34m(self, path, members, pwd)\u001B[0m\n\u001B[1;32m   1645\u001B[0m \u001B[0;34m\u001B[0m\u001B[0m\n\u001B[1;32m   1646\u001B[0m         \u001B[0;32mfor\u001B[0m \u001B[0mzipinfo\u001B[0m \u001B[0;32min\u001B[0m \u001B[0mmembers\u001B[0m\u001B[0;34m:\u001B[0m\u001B[0;34m\u001B[0m\u001B[0;34m\u001B[0m\u001B[0m\n\u001B[0;32m-> 1647\u001B[0;31m             \u001B[0mself\u001B[0m\u001B[0;34m.\u001B[0m\u001B[0m_extract_member\u001B[0m\u001B[0;34m(\u001B[0m\u001B[0mzipinfo\u001B[0m\u001B[0;34m,\u001B[0m \u001B[0mpath\u001B[0m\u001B[0;34m,\u001B[0m \u001B[0mpwd\u001B[0m\u001B[0;34m)\u001B[0m\u001B[0;34m\u001B[0m\u001B[0;34m\u001B[0m\u001B[0m\n\u001B[0m\u001B[1;32m   1648\u001B[0m \u001B[0;34m\u001B[0m\u001B[0m\n\u001B[1;32m   1649\u001B[0m     \u001B[0;34m@\u001B[0m\u001B[0mclassmethod\u001B[0m\u001B[0;34m\u001B[0m\u001B[0;34m\u001B[0m\u001B[0m\n",
      "\u001B[0;32m/opt/anaconda3/envs/lit_template/lib/python3.8/zipfile.py\u001B[0m in \u001B[0;36m_extract_member\u001B[0;34m(self, member, targetpath, pwd)\u001B[0m\n\u001B[1;32m   1691\u001B[0m         \u001B[0mupperdirs\u001B[0m \u001B[0;34m=\u001B[0m \u001B[0mos\u001B[0m\u001B[0;34m.\u001B[0m\u001B[0mpath\u001B[0m\u001B[0;34m.\u001B[0m\u001B[0mdirname\u001B[0m\u001B[0;34m(\u001B[0m\u001B[0mtargetpath\u001B[0m\u001B[0;34m)\u001B[0m\u001B[0;34m\u001B[0m\u001B[0;34m\u001B[0m\u001B[0m\n\u001B[1;32m   1692\u001B[0m         \u001B[0;32mif\u001B[0m \u001B[0mupperdirs\u001B[0m \u001B[0;32mand\u001B[0m \u001B[0;32mnot\u001B[0m \u001B[0mos\u001B[0m\u001B[0;34m.\u001B[0m\u001B[0mpath\u001B[0m\u001B[0;34m.\u001B[0m\u001B[0mexists\u001B[0m\u001B[0;34m(\u001B[0m\u001B[0mupperdirs\u001B[0m\u001B[0;34m)\u001B[0m\u001B[0;34m:\u001B[0m\u001B[0;34m\u001B[0m\u001B[0;34m\u001B[0m\u001B[0m\n\u001B[0;32m-> 1693\u001B[0;31m             \u001B[0mos\u001B[0m\u001B[0;34m.\u001B[0m\u001B[0mmakedirs\u001B[0m\u001B[0;34m(\u001B[0m\u001B[0mupperdirs\u001B[0m\u001B[0;34m)\u001B[0m\u001B[0;34m\u001B[0m\u001B[0;34m\u001B[0m\u001B[0m\n\u001B[0m\u001B[1;32m   1694\u001B[0m \u001B[0;34m\u001B[0m\u001B[0m\n\u001B[1;32m   1695\u001B[0m         \u001B[0;32mif\u001B[0m \u001B[0mmember\u001B[0m\u001B[0;34m.\u001B[0m\u001B[0mis_dir\u001B[0m\u001B[0;34m(\u001B[0m\u001B[0;34m)\u001B[0m\u001B[0;34m:\u001B[0m\u001B[0;34m\u001B[0m\u001B[0;34m\u001B[0m\u001B[0m\n",
      "\u001B[0;32m/opt/anaconda3/envs/lit_template/lib/python3.8/os.py\u001B[0m in \u001B[0;36mmakedirs\u001B[0;34m(name, mode, exist_ok)\u001B[0m\n\u001B[1;32m    221\u001B[0m             \u001B[0;32mreturn\u001B[0m\u001B[0;34m\u001B[0m\u001B[0;34m\u001B[0m\u001B[0m\n\u001B[1;32m    222\u001B[0m     \u001B[0;32mtry\u001B[0m\u001B[0;34m:\u001B[0m\u001B[0;34m\u001B[0m\u001B[0;34m\u001B[0m\u001B[0m\n\u001B[0;32m--> 223\u001B[0;31m         \u001B[0mmkdir\u001B[0m\u001B[0;34m(\u001B[0m\u001B[0mname\u001B[0m\u001B[0;34m,\u001B[0m \u001B[0mmode\u001B[0m\u001B[0;34m)\u001B[0m\u001B[0;34m\u001B[0m\u001B[0;34m\u001B[0m\u001B[0m\n\u001B[0m\u001B[1;32m    224\u001B[0m     \u001B[0;32mexcept\u001B[0m \u001B[0mOSError\u001B[0m\u001B[0;34m:\u001B[0m\u001B[0;34m\u001B[0m\u001B[0;34m\u001B[0m\u001B[0m\n\u001B[1;32m    225\u001B[0m         \u001B[0;31m# Cannot rely on checking for EEXIST, since the operating system\u001B[0m\u001B[0;34m\u001B[0m\u001B[0;34m\u001B[0m\u001B[0;34m\u001B[0m\u001B[0m\n",
      "\u001B[0;31mPermissionError\u001B[0m: [Errno 13] Permission denied: '/target'"
     ]
    }
   ],
   "source": [
    "extract_data()"
   ],
   "metadata": {
    "collapsed": false,
    "pycharm": {
     "name": "#%%\n"
    }
   }
  },
  {
   "cell_type": "markdown",
   "source": [
    " # Representing a language\n",
    " - Word level representation\n",
    " - Keeping Vocabulary\n",
    " - Easy conversion between word and its representation"
   ],
   "metadata": {
    "collapsed": false,
    "pycharm": {
     "name": "#%% md\n"
    }
   }
  },
  {
   "cell_type": "code",
   "execution_count": 5,
   "outputs": [],
   "source": [
    "sos_token_index = 1\n",
    "eos_token_index = 2\n",
    "pad_token_index = 0\n",
    "sos_token = '<start>'\n",
    "eos_token = '<end>'\n",
    "\n",
    "class Lang:\n",
    "    def __init__(self, name):\n",
    "        self.name = name\n",
    "        self.word2index = {sos_token:sos_token_index, eos_token: eos_token_index}\n",
    "        self.word2count = {sos_token:1, eos_token: 1}\n",
    "        self.index2word = {sos_token_index: sos_token, eos_token_index: eos_token}\n",
    "        self.n_words = 3 # Count SOS and EOS\n",
    "\n",
    "    def add_sentence(self, sentence: str):\n",
    "        for word in sentence.split(' '):\n",
    "            self.add_word(word)\n",
    "\n",
    "    def add_word(self, word: str):\n",
    "        if word not in self.word2index:\n",
    "            self.word2index[word] = self.n_words\n",
    "            self.word2count[word] = 1\n",
    "            self.index2word[self.n_words] = word\n",
    "            self.n_words += 1\n",
    "        else:\n",
    "            self.word2count[word] += 1"
   ],
   "metadata": {
    "collapsed": false,
    "pycharm": {
     "name": "#%%\n"
    }
   }
  },
  {
   "cell_type": "markdown",
   "source": [
    "# Before creating a language we need to preprocess the data!"
   ],
   "metadata": {
    "collapsed": false,
    "pycharm": {
     "name": "#%% md\n"
    }
   }
  },
  {
   "cell_type": "code",
   "execution_count": 6,
   "outputs": [],
   "source": [
    "def unicode_to_ascii(sentence: str) -> str:\n",
    "    \"\"\"\n",
    "     NFD, 'Normal Form Decomposed' gives you decomposed, combined characters.\n",
    "    Mn, Nonspacing mark\n",
    "    :param sentence:\n",
    "    :return: ascii sentence\n",
    "    \"\"\"\n",
    "    return ''.join(\n",
    "        c for c in unicodedata.normalize('NFD', sentence)\n",
    "        if unicodedata.category(c) != 'Mn'\n",
    "    )"
   ],
   "metadata": {
    "collapsed": false,
    "pycharm": {
     "name": "#%%\n"
    }
   }
  },
  {
   "cell_type": "markdown",
   "source": [
    "#### SOURCE OF ALL EVIL!!! FIX THIS"
   ],
   "metadata": {
    "collapsed": false,
    "pycharm": {
     "name": "#%% md\n"
    }
   }
  },
  {
   "cell_type": "code",
   "execution_count": 7,
   "outputs": [],
   "source": [
    "def normalize_string(s: str) -> str:\n",
    "    s = unicode_to_ascii(s.lower().strip())\n",
    "    # creating a space between a word and the punctuyouation following it\n",
    "    # eg: \"he is a boy.\" => \"he is a boy .\"\n",
    "    # Reference:- https://stackoverflow.com/questions/3645931/python-padding-punctuation-with-white-spaces-keeping-punctuation\n",
    "    s = re.sub(r\"([?.!,¿])\", r\" \\1 \", s)\n",
    "    s = re.sub(r'[\" \"]+', \" \", s)\n",
    "    # replacing everything with space except (a-z, A-Z, \".\", \"?\", \"!\", \",\", \"¿\")\n",
    "    s = re.sub(r\"[^a-zA-Z?.!,¿]+\", \" \", s)\n",
    "    return s.strip()"
   ],
   "metadata": {
    "collapsed": false,
    "pycharm": {
     "name": "#%%\n"
    }
   }
  },
  {
   "cell_type": "code",
   "execution_count": 8,
   "outputs": [
    {
     "name": "stdout",
     "output_type": "stream",
     "text": [
      "b'may i borrow this book ?'\n",
      "b'\\xc2\\xbf puedo tomar prestado este libro ?'\n",
      "b'puis je emprunter ce livre ?'\n"
     ]
    }
   ],
   "source": [
    "sentences = [u\"May I borrow this book?\",\n",
    "             u\"¿Puedo tomar prestado este libro?\",\n",
    "             u\"Puis-je emprunter ce livre?\"]\n",
    "for sentence in sentences:\n",
    "    print(normalize_string(sentence).encode('utf-8'))"
   ],
   "metadata": {
    "collapsed": false,
    "pycharm": {
     "name": "#%%\n"
    }
   }
  },
  {
   "cell_type": "markdown",
   "source": [
    "# Dataset creation and tokenization"
   ],
   "metadata": {
    "collapsed": false,
    "pycharm": {
     "name": "#%% md\n"
    }
   }
  },
  {
   "cell_type": "code",
   "execution_count": 9,
   "outputs": [],
   "source": [
    "def read_langs(lang1: str, lang2: str, num_examples: Optional[int] = None) -> (Lang, Lang, List[Tuple[str]]):\n",
    "    lines = open('data/%s-%s.txt' % (lang1, lang2), encoding='utf-8')\\\n",
    "        .read()\\\n",
    "        .strip()\\\n",
    "        .split('\\n')\n",
    "    if num_examples:\n",
    "        lines=lines[:num_examples]\n",
    "    print('Read %s lines' % len(lines))\n",
    "    pairs = [[normalize_string(s) for s in l.split('\\t')[:2]] for l in lines]\n",
    "    input_lang = Lang(lang1)\n",
    "    output_lang = Lang(lang2)\n",
    "    return input_lang, output_lang, pairs"
   ],
   "metadata": {
    "collapsed": false,
    "pycharm": {
     "name": "#%%\n"
    }
   }
  },
  {
   "cell_type": "code",
   "execution_count": 87,
   "outputs": [],
   "source": [
    "MAX_LENGTH = 8\n",
    "\n",
    "eng_prefixes = (\n",
    "    \"i am \", \"i m \",\n",
    "    \"he is\", \"he s \",\n",
    "    \"she is\", \"she s \",\n",
    "    \"you are\", \"you re \",\n",
    "    \"we are\", \"we re \",\n",
    "    \"they are\", \"they re \"\n",
    ")\n",
    "\n",
    "def filter_pair(p):\n",
    "    return len(p[0].split(' ')) < MAX_LENGTH and \\\n",
    "        len(p[1].split(' ')) < MAX_LENGTH\n",
    "\n",
    "\n",
    "def filter_pairs(pairs):\n",
    "    return [pair for pair in pairs if filter_pair(pair)]"
   ],
   "metadata": {
    "collapsed": false,
    "pycharm": {
     "name": "#%%\n"
    }
   }
  },
  {
   "cell_type": "code",
   "execution_count": 88,
   "outputs": [],
   "source": [
    "def prepare_data(lang1: str, lang2: str, num_examples: Optional[int] = None):\n",
    "    input_lang, output_lang, pairs = read_langs(lang1, lang2, num_examples)\n",
    "    print('Read %s sentence pairs' % len(pairs))\n",
    "    pairs = filter_pairs(pairs)\n",
    "    print(\"Trimmed to %s sentence pairs\" % len(pairs))\n",
    "    for pair in pairs:\n",
    "        input_lang.add_sentence(pair[0])\n",
    "        output_lang.add_sentence(pair[1])\n",
    "    print('Counted words:')\n",
    "    print(input_lang.name, input_lang.n_words)\n",
    "    print(output_lang.name, output_lang.n_words)\n",
    "    return input_lang, output_lang, pairs"
   ],
   "metadata": {
    "collapsed": false,
    "pycharm": {
     "name": "#%%\n"
    }
   }
  },
  {
   "cell_type": "code",
   "execution_count": 89,
   "outputs": [
    {
     "name": "stdout",
     "output_type": "stream",
     "text": [
      "Read 135842 lines\n",
      "Read 135842 sentence pairs\n",
      "Trimmed to 56621 sentence pairs\n",
      "Counted words:\n",
      "eng 7675\n",
      "fra 12835\n"
     ]
    }
   ],
   "source": [
    "input_lang, output_lang, pairs = prepare_data('eng', 'fra', None)\n",
    "num_examples=len(pairs)"
   ],
   "metadata": {
    "collapsed": false,
    "pycharm": {
     "name": "#%%\n"
    }
   }
  },
  {
   "cell_type": "code",
   "execution_count": 90,
   "outputs": [
    {
     "name": "stdout",
     "output_type": "stream",
     "text": [
      "i ll be at tom s .\n",
      "il n en est pas question !\n",
      "9 8\n"
     ]
    }
   ],
   "source": [
    "longest_input_sentence = sorted(map(lambda x: x[0], pairs), key=lambda x: len(x.split(' ')), reverse=True)[0]\n",
    "print(longest_input_sentence)\n",
    "# TODO: explain why we need those +2 and +1's\n",
    "longest_input_length = len(longest_input_sentence.split(' ')) + 2\n",
    "longest_output = sorted(map(lambda x: x[1], pairs), key=lambda x: len(x.split(' ')), reverse=True)[0]\n",
    "print(longest_output)\n",
    "longest_output_length = len(longest_output.split(' ')) + 1\n",
    "print(longest_input_length, longest_output_length)"
   ],
   "metadata": {
    "collapsed": false,
    "pycharm": {
     "name": "#%%\n"
    }
   }
  },
  {
   "cell_type": "code",
   "execution_count": 91,
   "outputs": [
    {
     "name": "stdout",
     "output_type": "stream",
     "text": [
      "['would you lend me your pen ?', 'me preterais tu ton stylo ?']\n"
     ]
    }
   ],
   "source": [
    "print(random.choice(pairs))"
   ],
   "metadata": {
    "collapsed": false,
    "pycharm": {
     "name": "#%%\n"
    }
   }
  },
  {
   "cell_type": "markdown",
   "source": [
    "## sentence - index - tensor conversions"
   ],
   "metadata": {
    "collapsed": false,
    "pycharm": {
     "name": "#%% md\n"
    }
   }
  },
  {
   "cell_type": "code",
   "execution_count": 92,
   "outputs": [],
   "source": [
    "def indexes_from_sentence(lang: Lang, sentence: str) -> List[int]:\n",
    "    return [lang.word2index[word] for word in sentence.split(' ')]"
   ],
   "metadata": {
    "collapsed": false,
    "pycharm": {
     "name": "#%%\n"
    }
   }
  },
  {
   "cell_type": "code",
   "execution_count": 93,
   "outputs": [],
   "source": [
    "def sentence_from_indexes(lang: Lang, indexes):\n",
    "    return ' '.join([lang.index2word[index] for index in indexes])"
   ],
   "metadata": {
    "collapsed": false,
    "pycharm": {
     "name": "#%%\n"
    }
   }
  },
  {
   "cell_type": "code",
   "execution_count": 94,
   "outputs": [],
   "source": [
    "def tensor_from_sentence(lang, sentence):\n",
    "    indexes=indexes_from_sentence(lang, sentence)\n",
    "    return torch.tensor(indexes, dtype=torch.long, device=device)"
   ],
   "metadata": {
    "collapsed": false,
    "pycharm": {
     "name": "#%%\n"
    }
   }
  },
  {
   "cell_type": "code",
   "execution_count": 95,
   "outputs": [],
   "source": [
    "def sentence_from_tensor(lang, tensor: torch.Tensor):\n",
    "    return sentence_from_indexes(lang, tensor.tolist())"
   ],
   "metadata": {
    "collapsed": false,
    "pycharm": {
     "name": "#%%\n"
    }
   }
  },
  {
   "cell_type": "code",
   "execution_count": 96,
   "outputs": [],
   "source": [
    "def tensors_from_pair(input_lang, output_lang, pair):\n",
    "    input_tensor=tensor_from_sentence(input_lang,pair[0])\n",
    "    output_tensor=tensor_from_sentence(output_lang,pair[1])\n",
    "    return input_tensor, output_tensor"
   ],
   "metadata": {
    "collapsed": false,
    "pycharm": {
     "name": "#%%\n"
    }
   }
  },
  {
   "cell_type": "code",
   "execution_count": 97,
   "outputs": [],
   "source": [
    "def add_sos_eos_tokens_to_pair(pair):\n",
    "    source = ' '.join([sos_token, pair[0], eos_token])\n",
    "    target = ' '.join([pair[1], eos_token])\n",
    "    return source, target"
   ],
   "metadata": {
    "collapsed": false,
    "pycharm": {
     "name": "#%%\n"
    }
   }
  },
  {
   "cell_type": "code",
   "execution_count": 98,
   "outputs": [
    {
     "name": "stdout",
     "output_type": "stream",
     "text": [
      "she explained her reasons to us .\n",
      "tensor([ 159, 4558,  369, 2452,  202,   52,    4], device='cuda:0')\n",
      "she explained her reasons to us .\n"
     ]
    }
   ],
   "source": [
    "sample_input = random.choice(pairs)[0]\n",
    "print(sample_input)\n",
    "sample_input_tensor = tensor_from_sentence(input_lang, sample_input)\n",
    "print(sample_input_tensor)\n",
    "print(sentence_from_tensor(input_lang, sample_input_tensor))"
   ],
   "metadata": {
    "collapsed": false,
    "pycharm": {
     "name": "#%%\n"
    }
   }
  },
  {
   "cell_type": "markdown",
   "source": [
    "## PyTorch Dataset and Dataloader creation"
   ],
   "metadata": {
    "collapsed": false,
    "pycharm": {
     "name": "#%% md\n"
    }
   }
  },
  {
   "cell_type": "code",
   "execution_count": 99,
   "outputs": [],
   "source": [
    "class NMTDataset(Dataset):\n",
    "    def __init__(self,\n",
    "                 input_lang,\n",
    "                 output_lang,\n",
    "                 pairs,\n",
    "                 max_input_length: int,\n",
    "                 max_output_length: int):\n",
    "        self.input_lang = input_lang\n",
    "        self.output_lang = output_lang\n",
    "        self.pairs = pairs\n",
    "        self.max_input_length = max_input_length\n",
    "        self.max_output_length = max_output_length\n",
    "\n",
    "    def __len__(self):\n",
    "        return len(pairs)\n",
    "\n",
    "    def __getitem__(self, item):\n",
    "        try:\n",
    "            pair = pairs[item]\n",
    "            source, target = add_sos_eos_tokens_to_pair(pair)\n",
    "            input_tensor, output_tensor = tensors_from_pair(input_lang, output_lang, (source, target))\n",
    "            padded_input_tensor = torch.full([self.max_input_length], pad_token_index, dtype=torch.long, device=device)\n",
    "            padded_input_tensor[:len(input_tensor)] = input_tensor\n",
    "            padded_output_tensor = torch.full([self.max_output_length], pad_token_index, dtype=torch.long, device=device)\n",
    "            padded_output_tensor[:len(output_tensor)] = output_tensor\n",
    "        except Exception as e:\n",
    "            print('index', item)\n",
    "            print(pairs[item])\n",
    "            raise e\n",
    "        return {'source': padded_input_tensor, 'target': padded_output_tensor}"
   ],
   "metadata": {
    "collapsed": false,
    "pycharm": {
     "name": "#%%\n"
    }
   }
  },
  {
   "cell_type": "code",
   "execution_count": 100,
   "outputs": [],
   "source": [
    "dataset=NMTDataset(input_lang, output_lang, pairs, longest_input_length, longest_output_length)\n",
    "train_size=floor(num_examples*0.8)\n",
    "val_size= floor(num_examples*0.1)\n",
    "test_size=num_examples - train_size - val_size\n",
    "train_val_test_split = (train_size, val_size, test_size)\n",
    "\n",
    "data_train, data_val, data_test = random_split(\n",
    "                dataset, train_val_test_split, generator=torch.Generator().manual_seed(42)\n",
    "            )"
   ],
   "metadata": {
    "collapsed": false,
    "pycharm": {
     "name": "#%%\n"
    }
   }
  },
  {
   "cell_type": "code",
   "execution_count": 101,
   "outputs": [],
   "source": [
    "batch_size=128"
   ],
   "metadata": {
    "collapsed": false,
    "pycharm": {
     "name": "#%%\n"
    }
   }
  },
  {
   "cell_type": "code",
   "execution_count": 102,
   "outputs": [],
   "source": [
    "train_dataloader=DataLoader(\n",
    "            dataset=data_train,\n",
    "            batch_size=batch_size,\n",
    "            num_workers=0,\n",
    "            pin_memory=False,\n",
    "            shuffle=True,\n",
    "        )\n",
    "val_dataloader=DataLoader(\n",
    "            dataset=data_val,\n",
    "            batch_size=batch_size,\n",
    "            num_workers=0,\n",
    "            pin_memory=False,\n",
    "            shuffle=False,\n",
    "        )\n",
    "test_dataloader=DataLoader(\n",
    "            dataset=data_test,\n",
    "            batch_size=batch_size,\n",
    "            num_workers=0,\n",
    "            pin_memory=False,\n",
    "            shuffle=False,\n",
    "        )"
   ],
   "metadata": {
    "collapsed": false,
    "pycharm": {
     "name": "#%%\n"
    }
   }
  },
  {
   "cell_type": "code",
   "execution_count": 103,
   "outputs": [
    {
     "name": "stdout",
     "output_type": "stream",
     "text": [
      "{'source': tensor([   1,   61, 3262, 3263,    4,    2,    0,    0,    0], device='cuda:0'), 'target': tensor([  72, 2223, 5803, 1173, 5804,   15,    2,    0], device='cuda:0')}\n"
     ]
    }
   ],
   "source": [
    "print(random.choice(dataset))"
   ],
   "metadata": {
    "collapsed": false,
    "pycharm": {
     "name": "#%%\n"
    }
   }
  },
  {
   "cell_type": "code",
   "execution_count": 104,
   "outputs": [
    {
     "name": "stdout",
     "output_type": "stream",
     "text": [
      "torch.Size([128, 9])\n",
      "torch.Size([128, 8])\n"
     ]
    }
   ],
   "source": [
    "sample_batch = next(iter(train_dataloader))\n",
    "print(sample_batch['source'].shape)\n",
    "print(sample_batch['target'].shape)"
   ],
   "metadata": {
    "collapsed": false,
    "pycharm": {
     "name": "#%%\n"
    }
   }
  },
  {
   "cell_type": "markdown",
   "source": [
    "# The Model and Attention"
   ],
   "metadata": {
    "collapsed": false,
    "pycharm": {
     "name": "#%% md\n"
    }
   }
  },
  {
   "cell_type": "markdown",
   "source": [
    "### Encoder"
   ],
   "metadata": {
    "collapsed": false,
    "pycharm": {
     "name": "#%% md\n"
    }
   }
  },
  {
   "cell_type": "code",
   "execution_count": 105,
   "outputs": [],
   "source": [
    "class Encoder(nn.Module):\n",
    "    def __init__(self,\n",
    "                 input_dim: int,\n",
    "                 emb_dim: int,\n",
    "                 enc_hid_dim: int,\n",
    "                 dec_hid_dim: int,\n",
    "                 dropout: float = 0.1):\n",
    "        super().__init__()\n",
    "        self.input_dim = input_dim\n",
    "        self.emb_dim = emb_dim\n",
    "        self.enc_hid_dim = enc_hid_dim\n",
    "        self.dec_hid_dim = dec_hid_dim\n",
    "        self.dropout = dropout\n",
    "        self.embedding = nn.Embedding(input_dim, emb_dim)\n",
    "        self.rnn = nn.GRU(emb_dim, enc_hid_dim, bidirectional = True)\n",
    "        self.d = (1 if not self.rnn.bidirectional else 2) * self.rnn.num_layers\n",
    "        self.fc = nn.Linear(enc_hid_dim * 2, dec_hid_dim)\n",
    "        self.dropout = nn.Dropout(dropout)\n",
    "\n",
    "    def forward(self,\n",
    "                src: Tensor # B, L\n",
    "                ) -> Tuple[Tensor]:\n",
    "        embedded = self.dropout(self.embedding(src)) # B, L, E\n",
    "        outputs, hidden = self.rnn(embedded.permute(1, 0, 2)) # L, B, d*e_H - d, B, e_H\n",
    "        hidden = torch.tanh(self.fc(torch.cat((hidden[-2,:,:], hidden[-1,:,:]), dim = 1))) # B, d_H\n",
    "        return outputs, hidden"
   ],
   "metadata": {
    "collapsed": false,
    "pycharm": {
     "name": "#%%\n"
    }
   }
  },
  {
   "cell_type": "code",
   "execution_count": 106,
   "outputs": [
    {
     "name": "stdout",
     "output_type": "stream",
     "text": [
      "Encoder output shape: (batch size, sequence length, units)\n",
      " torch.Size([16, 32, 128])\n",
      "Encoder Hidden state shape: (batch size, decoder hidden size)\n",
      " torch.Size([32, 64])\n"
     ]
    }
   ],
   "source": [
    "sample_input = torch.randint(1, 100, (32, 16),  device=device)\n",
    "encoder = Encoder(input_lang.n_words, emb_dim=64, enc_hid_dim=64, dec_hid_dim=64).to(device=device)\n",
    "sample_encoder_output, sample_encoder_hidden = encoder(sample_input)\n",
    "print (f'Encoder output shape: (batch size, sequence length, units)\\n {sample_encoder_output.shape}')\n",
    "print (f'Encoder Hidden state shape: (batch size, decoder hidden size)\\n {sample_encoder_hidden.shape}')"
   ],
   "metadata": {
    "collapsed": false,
    "pycharm": {
     "name": "#%%\n"
    }
   }
  },
  {
   "cell_type": "markdown",
   "source": [
    "### Decoder with optional Global Attention Mechanism"
   ],
   "metadata": {
    "collapsed": false,
    "pycharm": {
     "name": "#%% md\n"
    }
   }
  },
  {
   "cell_type": "code",
   "execution_count": 107,
   "outputs": [],
   "source": [
    "class Attention(nn.Module):\n",
    "    def __init__(self,\n",
    "                 enc_hid_dim: int,\n",
    "                 dec_hid_dim: int,\n",
    "                 attn_dim: int):\n",
    "        super().__init__()\n",
    "        self.enc_hid_dim = enc_hid_dim\n",
    "        self.dec_hid_dim = dec_hid_dim\n",
    "        self.attn_in = (enc_hid_dim * 2) + dec_hid_dim\n",
    "        self.attn = nn.Linear(self.attn_in, attn_dim)\n",
    "        self.v = nn.Parameter(torch.rand(attn_dim))\n",
    "\n",
    "    def forward(self,\n",
    "                decoder_hidden: torch.Tensor,  # [batch size, dec hid dim]\n",
    "                encoder_outputs: torch.Tensor  #  [src len, batch size, enc hid dim * 2]\n",
    "                ) -> torch.Tensor:\n",
    "        #hidden = [batch size, dec hid dim]\n",
    "        #encoder_outputs = [src sent len, batch size, enc hid dim * 2]\n",
    "\n",
    "        batch_size = encoder_outputs.shape[1]\n",
    "        src_len = encoder_outputs.shape[0]\n",
    "\n",
    "        #repeat decoder hidden state src_len times\n",
    "        repeated_decoder_hidden = decoder_hidden.unsqueeze(1).repeat(1, src_len, 1)\n",
    "\n",
    "        encoder_outputs = encoder_outputs.permute(1, 0, 2)\n",
    "\n",
    "        #decoder_hidden = [batch size, src sent len, dec hid dim]\n",
    "        #encoder_outputs = [batch size, src sent len, enc hid dim * 2]\n",
    "\n",
    "        # Step 1: to enable feeding through \"self.attn\" pink box above, concatenate\n",
    "        # `repeated_decoder_hidden` and `encoder_outputs`:\n",
    "        # torch.cat((hidden, encoder_outputs), dim = 2) has shape\n",
    "        # [batch_size, seq_len, enc_hid_dim * 2 + dec_hid_dim]\n",
    "\n",
    "        # Step 2: feed through self.attn to end up with:\n",
    "        # [batch_size, seq_len, attn_dim]\n",
    "\n",
    "        # Step 3: feed through tanh\n",
    "\n",
    "        energy = torch.tanh(self.attn(torch.cat((\n",
    "            repeated_decoder_hidden,\n",
    "            encoder_outputs),\n",
    "            dim = 2)))\n",
    "\n",
    "        #energy = [batch size, src sent len, attn_dim]\n",
    "\n",
    "        energy = energy.permute(0, 2, 1)\n",
    "\n",
    "        #energy = [batch size, attn_dim, src sent len]\n",
    "\n",
    "        #v = [attn_dim]\n",
    "\n",
    "        v = self.v.repeat(batch_size, 1).unsqueeze(1)\n",
    "\n",
    "        #v = [batch size, 1, attn_dim]\n",
    "\n",
    "        # High level: energy a function of both encoder element outputs and most recent decoder hidden state,\n",
    "        # of shape attn_dim x enc_seq_len for each observation\n",
    "        # v, being 1 x attn_dim, transforms this into a vector of shape 1 x enc_seq_len for each observation\n",
    "        # Then, we take the softmax over these to get the output of the attention function\n",
    "\n",
    "        attention = torch.bmm(v, energy).squeeze(1)\n",
    "\n",
    "        #attention= [batch size, src len]\n",
    "\n",
    "        return F.softmax(attention, dim=1)\n"
   ],
   "metadata": {
    "collapsed": false,
    "pycharm": {
     "name": "#%%\n"
    }
   }
  },
  {
   "cell_type": "code",
   "execution_count": 108,
   "outputs": [],
   "source": [
    "class Decoder(nn.Module):\n",
    "    def __init__(self,\n",
    "                 output_dim: int,\n",
    "                 emb_dim: int,\n",
    "                 enc_hid_dim: int,\n",
    "                 dec_hid_dim: int,\n",
    "                 attention: nn.Module,\n",
    "                 dropout: float = 0.1, ):\n",
    "        super().__init__()\n",
    "        self.emb_dim = emb_dim\n",
    "        self.enc_hid_dim = enc_hid_dim\n",
    "        self.dec_hid_dim = dec_hid_dim\n",
    "        self.output_dim = output_dim\n",
    "        self.dropout = dropout\n",
    "        self.attention = attention\n",
    "        self.embedding = nn.Embedding(output_dim, emb_dim)\n",
    "        self.rnn = nn.GRU((enc_hid_dim * 2) + emb_dim, dec_hid_dim)\n",
    "        self.out = nn.Linear(self.attention.attn_in + emb_dim, output_dim)\n",
    "        self.dropout = nn.Dropout(dropout)\n",
    "\n",
    "    def _weighted_encoder_rep(self,\n",
    "                              decoder_hidden: Tensor,\n",
    "                              encoder_outputs: Tensor) -> Tensor:\n",
    "        a = self.attention(decoder_hidden, encoder_outputs) # B, L\n",
    "        a = a.unsqueeze(1) # B, 1, L\n",
    "        encoder_outputs = encoder_outputs.permute(1, 0, 2) # B, L, d*e_H\n",
    "        weighted_encoder_rep = torch.bmm(a, encoder_outputs) # B, 1, d*e_H\n",
    "        weighted_encoder_rep = weighted_encoder_rep.permute(1, 0, 2) # 1, B, d*e_H\n",
    "        return weighted_encoder_rep, a.squeeze(1)\n",
    "\n",
    "    def forward(self,\n",
    "                input: Tensor,\n",
    "                decoder_hidden: Tensor,\n",
    "                encoder_outputs: Tensor) -> Tuple[Tensor]:\n",
    "        input = input.unsqueeze(0) # 1, B\n",
    "        embedded = self.dropout(self.embedding(input)) # 1, B, E\n",
    "        weighted_encoder_rep, attn_weights = self._weighted_encoder_rep(decoder_hidden,\n",
    "                                                          encoder_outputs)\n",
    "        rnn_input = torch.cat((embedded, weighted_encoder_rep), dim=2)\n",
    "        output, decoder_hidden = self.rnn(rnn_input, decoder_hidden.unsqueeze(0))\n",
    "        embedded = embedded.squeeze(0)\n",
    "        output = output.squeeze(0)\n",
    "        weighted_encoder_rep = weighted_encoder_rep.squeeze(0)\n",
    "        output = self.out(torch.cat((output,\n",
    "                                     weighted_encoder_rep,\n",
    "                                     embedded), dim=1))\n",
    "\n",
    "        return output, decoder_hidden.squeeze(0), attn_weights"
   ],
   "metadata": {
    "collapsed": false,
    "pycharm": {
     "name": "#%%\n"
    }
   }
  },
  {
   "cell_type": "code",
   "execution_count": 109,
   "outputs": [
    {
     "name": "stdout",
     "output_type": "stream",
     "text": [
      "Decoder output shape: (batch size, output_vocab_size)\n",
      " torch.Size([32, 12835])\n",
      "Decoder Hidden state shape: (batch size, decoder_hidden)\n",
      " torch.Size([32, 64])\n",
      "Decoder Attention Weights shape: (batch size, max_input_length)\n",
      " torch.Size([32, 16])\n"
     ]
    }
   ],
   "source": [
    "# Decoder with Attention Results\n",
    "sample_input = torch.randint(0, 1, (32, 1),  device=device)[:, 0]\n",
    "decoder = Decoder(output_dim= output_lang.n_words,\n",
    "                 emb_dim=64,\n",
    "                 enc_hid_dim=64,\n",
    "                 dec_hid_dim=64,\n",
    "                 attention=Attention(64, 64, 8)).to(device=device)\n",
    "sample_output, sample_hidden, attn_weights = decoder.forward(sample_input, sample_encoder_hidden, sample_encoder_output)\n",
    "print (f'Decoder output shape: (batch size, output_vocab_size)\\n {sample_output.shape}')\n",
    "print (f'Decoder Hidden state shape: (batch size, decoder_hidden)\\n {sample_hidden.shape}')\n",
    "print (f'Decoder Attention Weights shape: (batch size, max_input_length)\\n {attn_weights.shape}')"
   ],
   "metadata": {
    "collapsed": false,
    "pycharm": {
     "name": "#%%\n"
    }
   }
  },
  {
   "cell_type": "markdown",
   "source": [
    "### Combining Encoder + Decoder to create Seq2Seq model"
   ],
   "metadata": {
    "collapsed": false,
    "pycharm": {
     "name": "#%% md\n"
    }
   }
  },
  {
   "cell_type": "code",
   "execution_count": 110,
   "outputs": [],
   "source": [
    "class Seq2Seq(nn.Module):\n",
    "    def __init__(self, encoder: Encoder, decoder: Decoder):\n",
    "        super().__init__()\n",
    "        self.encoder = encoder\n",
    "        self.decoder = decoder\n",
    "\n",
    "    # TODO: implement inference mode\n",
    "    # TODO: show how important the teacher forcing ratio is\n",
    "    def forward(self,\n",
    "                source: torch.Tensor,\n",
    "                target: torch.Tensor,\n",
    "                teacher_forcing_ratio: float = 0.5) -> torch.Tensor:\n",
    "        batch_size = source.shape[0]\n",
    "        max_len = target.shape[1]\n",
    "        outputs = torch.zeros(batch_size, max_len, decoder.output_dim).to(device)\n",
    "        encoder_output, hidden = self.encoder(source)\n",
    "        # first input to the decoder is the <sos> token\n",
    "        output = Tensor([sos_token_index]).long().to(device=device).repeat(batch_size)\n",
    "        for t in range(max_len):\n",
    "            output, hidden, _ = self.decoder.forward(output, hidden, encoder_output)\n",
    "            outputs[:, t] = output\n",
    "            teacher_force = random.random() < teacher_forcing_ratio\n",
    "            top_v, top_i= output.topk(1)\n",
    "            if t + 1 is not max_len:\n",
    "                output = (target[:, t] if teacher_force else top_i.squeeze(1))\n",
    "\n",
    "        return outputs # B, L, V_out"
   ],
   "metadata": {
    "collapsed": false,
    "pycharm": {
     "name": "#%%\n"
    }
   }
  },
  {
   "cell_type": "code",
   "execution_count": 111,
   "outputs": [],
   "source": [
    "ENC_EMB_DIM = 64\n",
    "DEC_EMB_DIM = 64\n",
    "ENC_HID_DIM = 256\n",
    "DEC_HID_DIM = 256\n",
    "ATTN_DIM = 64\n",
    "ENC_DROPOUT = 0.1\n",
    "DEC_DROPOUT = 0.1\n",
    "\n",
    "encoder = Encoder(input_dim=input_lang.n_words,\n",
    "                  enc_hid_dim=ENC_HID_DIM,\n",
    "                  emb_dim=ENC_EMB_DIM,\n",
    "                  dec_hid_dim=DEC_HID_DIM,\n",
    "                  dropout=ENC_DROPOUT\n",
    "                  ).to(device=device)\n",
    "decoder = Decoder(output_dim=output_lang.n_words,\n",
    "                  dec_hid_dim=DEC_HID_DIM,\n",
    "                  attention=Attention(enc_hid_dim=ENC_HID_DIM, dec_hid_dim=DEC_HID_DIM, attn_dim=ATTN_DIM),\n",
    "                  emb_dim=DEC_EMB_DIM,\n",
    "                  enc_hid_dim=ENC_HID_DIM,\n",
    "                  dropout=DEC_DROPOUT\n",
    "                  ).to(device=device)\n",
    "seq2seq = Seq2Seq(encoder, decoder).to(device)"
   ],
   "metadata": {
    "collapsed": false,
    "pycharm": {
     "name": "#%%\n"
    }
   }
  },
  {
   "cell_type": "code",
   "execution_count": 112,
   "outputs": [
    {
     "name": "stdout",
     "output_type": "stream",
     "text": [
      "torch.Size([128, 8, 12835])\n"
     ]
    }
   ],
   "source": [
    "# Trying with sample batch\n",
    "outputs = seq2seq(source=sample_batch['source'], target=sample_batch['target'])\n",
    "print(outputs.shape)"
   ],
   "metadata": {
    "collapsed": false,
    "pycharm": {
     "name": "#%%\n"
    }
   }
  },
  {
   "cell_type": "code",
   "execution_count": 113,
   "outputs": [],
   "source": [
    "# add model visualization with parameter size"
   ],
   "metadata": {
    "collapsed": false,
    "pycharm": {
     "name": "#%%\n"
    }
   }
  },
  {
   "cell_type": "markdown",
   "source": [
    "# Training Loop"
   ],
   "metadata": {
    "collapsed": false,
    "pycharm": {
     "name": "#%% md\n"
    }
   }
  },
  {
   "cell_type": "code",
   "execution_count": 114,
   "outputs": [],
   "source": [
    "# tell them more about CrossEntropy loss why it is useful in this case\n",
    "def train_epoch(model: nn.Module,\n",
    "                iterator: DataLoader,\n",
    "                optimizer: optim.Optimizer,\n",
    "                criterion: nn.Module,\n",
    "                clip: float):\n",
    "    model.train()\n",
    "    epoch_loss = 0\n",
    "    for batch in iterator:\n",
    "        src, trg = batch['source'].to(device=device), batch['target'].to(device=device)\n",
    "        optimizer.zero_grad()\n",
    "        outputs = model(src, trg)\n",
    "        outputs = outputs[1:].view(-1, outputs.shape[-1])\n",
    "        trg = trg[1:].view(-1)\n",
    "        loss=criterion(outputs, trg)\n",
    "        loss.backward()\n",
    "        torch.nn.utils.clip_grad_norm_(model.parameters(), clip)\n",
    "        optimizer.step()\n",
    "        epoch_loss += loss.item()\n",
    "    return epoch_loss / len(iterator)"
   ],
   "metadata": {
    "collapsed": false,
    "pycharm": {
     "name": "#%%\n"
    }
   }
  },
  {
   "cell_type": "code",
   "execution_count": 115,
   "outputs": [],
   "source": [
    "@torch.no_grad()\n",
    "def evaluate(model: nn.Module,\n",
    "             iterator: DataLoader,\n",
    "              criterion: nn.Module):\n",
    "    model.eval()\n",
    "    epoch_loss = 0\n",
    "    for batch in iterator:\n",
    "        src, trg = batch['source'].to(device=device), batch['target'].to(device=device)\n",
    "        outputs = model(src, trg, teacher_forcing_ratio=0) #turn off teacher forcing\n",
    "        outputs = outputs[1:].view(-1, outputs.shape[-1])\n",
    "        trg = trg[1:].view(-1)\n",
    "        loss=criterion(outputs, trg)\n",
    "        epoch_loss += loss.item()\n",
    "    return epoch_loss / len(iterator)"
   ],
   "metadata": {
    "collapsed": false,
    "pycharm": {
     "name": "#%%\n"
    }
   }
  },
  {
   "cell_type": "code",
   "execution_count": 116,
   "outputs": [],
   "source": [
    "# Helper methods"
   ],
   "metadata": {
    "collapsed": false,
    "pycharm": {
     "name": "#%%\n"
    }
   }
  },
  {
   "cell_type": "code",
   "execution_count": 117,
   "outputs": [],
   "source": [
    "def epoch_time(start_time: int,\n",
    "               end_time: int):\n",
    "    elapsed_time = end_time - start_time\n",
    "    elapsed_mins = int(elapsed_time / 60)\n",
    "    elapsed_secs = int(elapsed_time - (elapsed_mins * 60))\n",
    "    return elapsed_mins, elapsed_secs"
   ],
   "metadata": {
    "collapsed": false,
    "pycharm": {
     "name": "#%%\n"
    }
   }
  },
  {
   "cell_type": "code",
   "execution_count": 118,
   "outputs": [],
   "source": [
    "def show_plot(points):\n",
    "    plt.figure()\n",
    "    fig, ax = plt.subplots()\n",
    "    # this locator puts ticks at regular intervals\n",
    "    loc = ticker.MultipleLocator(base=0.2)\n",
    "    ax.yaxis.set_major_locator(loc)\n",
    "    plt.plot(points)"
   ],
   "metadata": {
    "collapsed": false,
    "pycharm": {
     "name": "#%%\n"
    }
   }
  },
  {
   "cell_type": "code",
   "execution_count": 119,
   "outputs": [],
   "source": [
    "N_EPOCHS = 10\n",
    "CLIP = 1\n",
    "model = seq2seq\n",
    "best_valid_loss = float('inf')\n",
    "optimizer = optim.Adam(model.parameters())\n",
    "criterion = nn.CrossEntropyLoss(ignore_index=pad_token_index)"
   ],
   "metadata": {
    "collapsed": false,
    "pycharm": {
     "name": "#%%\n"
    }
   }
  },
  {
   "cell_type": "code",
   "execution_count": 120,
   "outputs": [
    {
     "name": "stdout",
     "output_type": "stream",
     "text": [
      "Epoch: 01 | Time: 0m 27s\n",
      "\tTrain Loss: 3.844 | Train PPL:  46.692\n",
      "\t Val. Loss: 2.926 |  Val. PPL:  18.658\n",
      "Epoch: 02 | Time: 0m 26s\n",
      "\tTrain Loss: 2.241 | Train PPL:   9.401\n",
      "\t Val. Loss: 2.376 |  Val. PPL:  10.765\n",
      "Epoch: 03 | Time: 0m 27s\n",
      "\tTrain Loss: 1.631 | Train PPL:   5.109\n",
      "\t Val. Loss: 2.207 |  Val. PPL:   9.092\n",
      "Epoch: 04 | Time: 0m 26s\n",
      "\tTrain Loss: 1.326 | Train PPL:   3.766\n",
      "\t Val. Loss: 2.130 |  Val. PPL:   8.415\n",
      "Epoch: 05 | Time: 0m 26s\n",
      "\tTrain Loss: 1.124 | Train PPL:   3.078\n",
      "\t Val. Loss: 2.131 |  Val. PPL:   8.427\n",
      "Epoch: 06 | Time: 0m 27s\n",
      "\tTrain Loss: 0.999 | Train PPL:   2.716\n",
      "\t Val. Loss: 2.120 |  Val. PPL:   8.333\n",
      "Epoch: 07 | Time: 0m 26s\n",
      "\tTrain Loss: 0.890 | Train PPL:   2.435\n",
      "\t Val. Loss: 2.119 |  Val. PPL:   8.320\n",
      "Epoch: 08 | Time: 0m 27s\n",
      "\tTrain Loss: 0.808 | Train PPL:   2.244\n",
      "\t Val. Loss: 2.132 |  Val. PPL:   8.429\n",
      "Epoch: 09 | Time: 0m 26s\n",
      "\tTrain Loss: 0.744 | Train PPL:   2.105\n",
      "\t Val. Loss: 2.160 |  Val. PPL:   8.673\n",
      "Epoch: 10 | Time: 0m 25s\n",
      "\tTrain Loss: 0.685 | Train PPL:   1.983\n",
      "\t Val. Loss: 2.172 |  Val. PPL:   8.780\n",
      "| Test Loss: 2.192 | Test PPL:   8.954 |\n"
     ]
    }
   ],
   "source": [
    "# what is PPL: could it be perplexity\n",
    "epoch_losses = []\n",
    "for epoch in range(N_EPOCHS):\n",
    "    start_time = time.time()\n",
    "    train_loss = train_epoch(model, train_dataloader, optimizer, criterion, CLIP)\n",
    "    epoch_losses.append(train_loss)\n",
    "    valid_loss = evaluate(model, val_dataloader, criterion)\n",
    "    end_time = time.time()\n",
    "    epoch_mins, epoch_secs = epoch_time(start_time, end_time)\n",
    "    print(f'Epoch: {epoch+1:02} | Time: {epoch_mins}m {epoch_secs}s')\n",
    "    print(f'\\tTrain Loss: {train_loss:.3f} | Train PPL: {math.exp(train_loss):7.3f}')\n",
    "    print(f'\\t Val. Loss: {valid_loss:.3f} |  Val. PPL: {math.exp(valid_loss):7.3f}')\n",
    "\n",
    "test_loss = evaluate(model, test_dataloader, criterion)\n",
    "\n",
    "print(f'| Test Loss: {test_loss:.3f} | Test PPL: {math.exp(test_loss):7.3f} |')"
   ],
   "metadata": {
    "collapsed": false,
    "pycharm": {
     "name": "#%%\n"
    }
   }
  },
  {
   "cell_type": "code",
   "execution_count": 121,
   "outputs": [
    {
     "data": {
      "text/plain": "<Figure size 432x288 with 0 Axes>"
     },
     "metadata": {},
     "output_type": "display_data"
    },
    {
     "data": {
      "text/plain": "<Figure size 432x288 with 1 Axes>",
      "image/png": "[encoded data removed]"
     },
     "metadata": {
      "needs_background": "light"
     },
     "output_type": "display_data"
    }
   ],
   "source": [
    "show_plot(epoch_losses)"
   ],
   "metadata": {
    "collapsed": false,
    "pycharm": {
     "name": "#%%\n"
    }
   }
  },
  {
   "cell_type": "markdown",
   "source": [
    "# Inference"
   ],
   "metadata": {
    "collapsed": false,
    "pycharm": {
     "name": "#%% md\n"
    }
   }
  },
  {
   "cell_type": "code",
   "execution_count": 122,
   "outputs": [],
   "source": [
    "@torch.no_grad()\n",
    "def infer(model: Seq2Seq, sentence: str, max_len: int):\n",
    "    sentence = ' '.join([sos_token, normalize_string(sentence), eos_token])\n",
    "    input_tensor = tensor_from_sentence(input_lang, sentence)\n",
    "    padded_input_tensor = torch.full([longest_input_length], pad_token_index, dtype=torch.long, device=device)\n",
    "    padded_input_tensor[:len(input_tensor)] = input_tensor\n",
    "    encoder_output, hidden = model.encoder(padded_input_tensor.view(1, -1))\n",
    "    decoder_attentions = torch.zeros(max_len, longest_input_length, device=device)\n",
    "    decoded_words = []\n",
    "    output = torch.tensor([sos_token_index], dtype=torch.long, device=device)\n",
    "    for t in range(max_len):\n",
    "        output, hidden, decoder_attention = model.decoder.forward(output, hidden, encoder_output)\n",
    "        decoder_attentions[t] = decoder_attention[0, :]\n",
    "        top_v, top_i= output.topk(1)\n",
    "        top_i = top_i.squeeze(1)\n",
    "        if top_i == eos_token_index:\n",
    "            decoded_words.append(eos_token)\n",
    "            break\n",
    "        else:\n",
    "            decoded_words.append(output_lang.index2word[top_i.item()])\n",
    "        output = top_i.detach()\n",
    "\n",
    "    return decoded_words, decoder_attentions[:t]"
   ],
   "metadata": {
    "collapsed": false,
    "pycharm": {
     "name": "#%%\n"
    }
   }
  },
  {
   "cell_type": "code",
   "execution_count": 132,
   "outputs": [],
   "source": [
    "def infer_randomly(model, n=5):\n",
    "    for i in range(n):\n",
    "        pair = random.choice(pairs)\n",
    "        print('>', pair[0])\n",
    "        print('=', pair[1])\n",
    "        output_words, attentions = infer(model, pair[0], longest_output_length)\n",
    "        output_sentence = ' '.join(output_words)\n",
    "        print('<', output_sentence)\n",
    "        print('')"
   ],
   "metadata": {
    "collapsed": false,
    "pycharm": {
     "name": "#%%\n"
    }
   }
  },
  {
   "cell_type": "code",
   "execution_count": 133,
   "outputs": [
    {
     "name": "stdout",
     "output_type": "stream",
     "text": [
      "> you have such a beautiful name .\n",
      "= tu as un nom si beau .\n",
      "< tu as un si beau nom . <end>\n",
      "\n",
      "> they re looking for you .\n",
      "= ils te cherchent .\n",
      "< ils vous cherchent . <end>\n",
      "\n",
      "> are you in a hurry ?\n",
      "= tu es presse ?\n",
      "< etes vous presses ? <end>\n",
      "\n",
      "> let s take a rest here .\n",
      "= reposons nous ici .\n",
      "< reposons nous ici . <end>\n",
      "\n",
      "> i like to try new things .\n",
      "= j aime essayer de nouvelles choses .\n",
      "< j aime essayer de nouveau choses . <end>\n",
      "\n"
     ]
    }
   ],
   "source": [
    "infer_randomly(model)"
   ],
   "metadata": {
    "collapsed": false,
    "pycharm": {
     "name": "#%%\n"
    }
   }
  },
  {
   "cell_type": "code",
   "execution_count": 134,
   "outputs": [
    {
     "name": "stdout",
     "output_type": "stream",
     "text": [
      "['i felt guilty .', 'je me suis sentie coupable .']\n"
     ]
    }
   ],
   "source": [
    "test_pair = random.choice(pairs)\n",
    "print(test_pair)"
   ],
   "metadata": {
    "collapsed": false,
    "pycharm": {
     "name": "#%%\n"
    }
   }
  },
  {
   "cell_type": "code",
   "execution_count": 135,
   "outputs": [
    {
     "name": "stdout",
     "output_type": "stream",
     "text": [
      "['je', 'me', 'sentis', 'coupable', '.', '<end>']\n"
     ]
    }
   ],
   "source": [
    "decoded_words, decoder_attentions = infer(model, test_pair[0], longest_output_length)\n",
    "print(decoded_words)"
   ],
   "metadata": {
    "collapsed": false,
    "pycharm": {
     "name": "#%%\n"
    }
   }
  },
  {
   "cell_type": "code",
   "execution_count": 136,
   "outputs": [
    {
     "data": {
      "text/plain": "<matplotlib.image.AxesImage at 0x7fa3abbb0d60>"
     },
     "execution_count": 136,
     "metadata": {},
     "output_type": "execute_result"
    },
    {
     "data": {
      "text/plain": "<Figure size 518.4x288 with 1 Axes>",
      "image/png": "[encoded data removed]"
     },
     "metadata": {
      "needs_background": "light"
     },
     "output_type": "display_data"
    }
   ],
   "source": [
    "plt.matshow(decoder_attentions.cpu().numpy())"
   ],
   "metadata": {
    "collapsed": false,
    "pycharm": {
     "name": "#%%\n"
    }
   }
  },
  {
   "cell_type": "code",
   "execution_count": 137,
   "outputs": [],
   "source": [
    "def show_attention(input_sentence, output_words, attentions):\n",
    "    # Set up figure with colorbar\n",
    "    fig = plt.figure(figsize=(10, 10))\n",
    "    ax = fig.add_subplot(111)\n",
    "    cax = ax.matshow(attentions.cpu().numpy(), cmap='bone')\n",
    "    fig.colorbar(cax)\n",
    "\n",
    "    # Set up axes\n",
    "    ax.set_xticklabels([''] + input_sentence.split(' '), rotation=90)\n",
    "    ax.set_yticklabels([''] + output_words)\n",
    "\n",
    "    # Show label at every tick\n",
    "    ax.xaxis.set_major_locator(ticker.MultipleLocator(1))\n",
    "    ax.yaxis.set_major_locator(ticker.MultipleLocator(1))\n",
    "\n",
    "    plt.show()"
   ],
   "metadata": {
    "collapsed": false,
    "pycharm": {
     "name": "#%%\n"
    }
   }
  },
  {
   "cell_type": "code",
   "execution_count": 138,
   "outputs": [],
   "source": [
    "def infer_and_show_attention(input_sentence):\n",
    "    output_words, attentions = infer(model, input_sentence, longest_output_length)\n",
    "    output = ' '.join(output_words)\n",
    "    print('input =', input_sentence)\n",
    "    print('output =', output)\n",
    "    attentions = attentions[:len(output.split(' ')), :len(input_sentence.split(' '))]\n",
    "    show_attention(input_sentence, output_words, attentions)"
   ],
   "metadata": {
    "collapsed": false,
    "pycharm": {
     "name": "#%%\n"
    }
   }
  },
  {
   "cell_type": "code",
   "execution_count": 139,
   "outputs": [
    {
     "name": "stdout",
     "output_type": "stream",
     "text": [
      "input = i had some fun .\n",
      "output = je me suis marree . <end>\n"
     ]
    },
    {
     "name": "stderr",
     "output_type": "stream",
     "text": [
      "/tmp/ipykernel_2097048/3749280879.py:9: UserWarning: FixedFormatter should only be used together with FixedLocator\n",
      "  ax.set_xticklabels([''] + input_sentence.split(' '), rotation=90)\n",
      "/tmp/ipykernel_2097048/3749280879.py:10: UserWarning: FixedFormatter should only be used together with FixedLocator\n",
      "  ax.set_yticklabels([''] + output_words)\n"
     ]
    },
    {
     "data": {
      "text/plain": "<Figure size 720x720 with 2 Axes>",
      "image/png": "[encoded data removed]"
     },
     "metadata": {
      "needs_background": "light"
     },
     "output_type": "display_data"
    }
   ],
   "source": [
    "infer_and_show_attention('i had some fun .')"
   ],
   "metadata": {
    "collapsed": false,
    "pycharm": {
     "name": "#%%\n"
    }
   }
  },
  {
   "cell_type": "code",
   "execution_count": null,
   "outputs": [],
   "source": [
    "# load models from checkpoint\n",
    "# TODO: add BLEU score"
   ],
   "metadata": {
    "collapsed": false,
    "pycharm": {
     "name": "#%%\n"
    }
   }
  }
 ],
 "metadata": {
  "kernelspec": {
   "name": "pycharm-lit-template",
   "language": "python",
   "display_name": "lit_template"
  },
  "language_info": {
   "codemirror_mode": {
    "name": "ipython",
    "version": 2
   },
   "file_extension": ".py",
   "mimetype": "text/x-python",
   "name": "python",
   "nbconvert_exporter": "python",
   "pygments_lexer": "ipython2",
   "version": "2.7.6"
  }
 },
 "nbformat": 4,
 "nbformat_minor": 0
}