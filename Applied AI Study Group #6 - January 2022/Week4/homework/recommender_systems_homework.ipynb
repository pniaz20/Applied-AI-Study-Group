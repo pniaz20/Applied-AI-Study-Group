{
  "cells": [
    {
      "cell_type": "markdown",
      "metadata": {
        "id": "jHWqkSxq3T-V"
      },
      "source": [
        "# Recommender Systems Homework\n",
        "\n",
        "* This notebook is for recommender systems homework of Applied AI. \\\n",
        "* Used dataset for this homework is [The Movies Dataset](https://www.kaggle.com/rounakbanik/the-movies-dataset/data)\n",
        "\n",
        "## **Dataset Description** \n",
        "\n",
        "This dataset includes 45k movies with their features like the kind of the movie or the crew of movie. Also, ratings of these movies are in this dataset as User-Movie interaction table.\n",
        "\n",
        "**Tables in Dataset:**\n",
        "\n",
        "* movies_metadata : Features belong to movies (~45k)\n",
        "* keywords : Keywords extracted from plot of the movies\n",
        "* credits : Cast and crew information\n",
        "* links : TMDB and IMDB IDs of all movies\n",
        "* ratings : User-Movie interactions\n",
        "\n",
        "## **Task Description**\n",
        "\n",
        "You are supposed to build a **recommendation system** which recommends movies to the user. Input of the system is a movie and the output is recommendation list consisting similar movies to given movie.\n",
        "\n",
        "* This task's approach for recommender systems is **Content Based** Approach.\n",
        "* Similarities between movies can be found by looking at their **common** **cast**.\n",
        "* Another movie features can be added to the system as you wish.\n",
        "\n",
        "\n",
        "## **What will you report?**\n",
        "\n",
        "* There is no limitation or scoring function for this task. \n",
        "* You can look at the distances between similar movies for comparison.\n",
        "* Recommend to yourselves movies with using your system and evaluate yourselves fairly 😀\n",
        "---\n",
        "\n",
        "\n"
      ]
    },
    {
      "cell_type": "markdown",
      "metadata": {
        "id": "1uQ7SxATio67"
      },
      "source": [
        "## Preperation"
      ]
    },
    {
      "cell_type": "markdown",
      "metadata": {
        "id": "j-LtzlfH99rr"
      },
      "source": [
        "* Mount Drive first"
      ]
    },
    {
      "cell_type": "code",
      "execution_count": null,
      "metadata": {
        "colab": {
          "base_uri": "https://localhost:8080/"
        },
        "id": "sw6WJnvCkUG_",
        "outputId": "2cd099d0-51d5-414e-9020-2746d236ab7c"
      },
      "outputs": [
        {
          "name": "stdout",
          "output_type": "stream",
          "text": [
            "Mounted at /content/drive\n"
          ]
        }
      ],
      "source": [
        "from google.colab import drive\n",
        "drive.mount('/content/drive')"
      ]
    },
    {
      "cell_type": "markdown",
      "metadata": {
        "id": "KLj0wUbhlaIc"
      },
      "source": [
        "* Import libraries"
      ]
    },
    {
      "cell_type": "code",
      "execution_count": 1,
      "metadata": {
        "id": "u7FZro5nlYxQ"
      },
      "outputs": [
        {
          "name": "stderr",
          "output_type": "stream",
          "text": [
            "D:\\Anaconda3\\envs\\myEnv001\\lib\\site-packages\\numpy\\_distributor_init.py:30: UserWarning: loaded more than 1 DLL from .libs:\n",
            "D:\\Anaconda3\\envs\\myEnv001\\lib\\site-packages\\numpy\\.libs\\libopenblas.EL2C6PLE4ZYW3ECEVIV3OXXGRN2NRFM2.gfortran-win_amd64.dll\n",
            "D:\\Anaconda3\\envs\\myEnv001\\lib\\site-packages\\numpy\\.libs\\libopenblas.PYQHXLVVQ7VESDPUVUADXEVJOBGHJPAY.gfortran-win_amd64.dll\n",
            "  warnings.warn(\"loaded more than 1 DLL from .libs:\"\n"
          ]
        }
      ],
      "source": [
        "import pandas as pd\n",
        "import numpy as np"
      ]
    },
    {
      "cell_type": "markdown",
      "metadata": {
        "id": "Wcb5qjTRmLrc"
      },
      "source": [
        "* Read the _credits_ and _movies_metadata_ files"
      ]
    },
    {
      "cell_type": "code",
      "execution_count": 3,
      "metadata": {
        "id": "hnIfuRrz8EAF"
      },
      "outputs": [],
      "source": [
        "credits = pd.read_csv('credits.csv', low_memory=False)\n",
        "movies = pd.read_csv('movies_metadata.csv', low_memory=False)\n",
        "NUM_MOVIES = min([len(credits), len(movies)])\n",
        "credits = credits[:NUM_MOVIES]\n",
        "movies = movies[:NUM_MOVIES]"
      ]
    },
    {
      "cell_type": "markdown",
      "metadata": {},
      "source": [
        " - Prepare new dataset of movies with their names"
      ]
    },
    {
      "cell_type": "code",
      "execution_count": 25,
      "metadata": {},
      "outputs": [
        {
          "name": "stdout",
          "output_type": "stream",
          "text": [
            "True\n"
          ]
        }
      ],
      "source": [
        "MOVIES = movies[\"original_title\"].apply(lambda s:s.upper()).to_numpy().tolist()\n",
        "print(\"TOY STORY\" in MOVIES)"
      ]
    },
    {
      "cell_type": "markdown",
      "metadata": {
        "id": "c9E03U9eq3rS"
      },
      "source": [
        "## Recommendation System"
      ]
    },
    {
      "cell_type": "code",
      "execution_count": 29,
      "metadata": {
        "id": "5oA--_Nul7ha"
      },
      "outputs": [],
      "source": [
        "# Function for getting the cast list of a movie\n",
        "def get_cast_list(movie_name:str=\"toy story\"):\n",
        "    movie_name = movie_name.upper()\n",
        "    if movie_name not in MOVIES:\n",
        "        raise ValueError(\"The given name does not exist in the database.\")\n",
        "    else:\n",
        "        i = MOVIES.index(movie_name)\n",
        "        names = []\n",
        "        for j in credits['cast'][i].split(\"'name': '\")[1:]:\n",
        "            name = j.split(\"'\")[0]\n",
        "            names.append(name)\n",
        "    return names\n",
        "\n",
        "# Function for calculating similarity between two movies.\n",
        "# Similarity is the ratio of number of common actors between two movies to number of all actors in the pair\n",
        "def similarity(query, candidate):\n",
        "    ql = get_cast_list(query)\n",
        "    cl = get_cast_list(candidate)\n",
        "    diff = 0\n",
        "    comm = 0\n",
        "    for actor in ql:\n",
        "        if actor in cl:\n",
        "            comm += 1\n",
        "        else:\n",
        "            diff += 1\n",
        "    for actor in cl:\n",
        "        if actor not in ql:\n",
        "            diff += 1\n",
        "    return comm/(comm + diff)"
      ]
    },
    {
      "cell_type": "markdown",
      "metadata": {
        "id": "9pVH_Tfhqx0a"
      },
      "source": [
        "## Recommendation Function"
      ]
    },
    {
      "cell_type": "code",
      "execution_count": 39,
      "metadata": {},
      "outputs": [],
      "source": [
        "def recommend_movie(movie:str, num_rec:int=3):\n",
        "    \"\"\"Recommends movies based on cast similarity\n",
        "\n",
        "    Args:\n",
        "        movie (str): Name of the movie, not case sensitive\n",
        "        num_rec (int, optional): Max number of recommendations. Defaults to 3.\n",
        "    \"\"\"\n",
        "    sims = []\n",
        "    for candidate in MOVIES:\n",
        "        sims.append((candidate, similarity(movie, candidate)))\n",
        "    sims_sorted = sorted(sims, key=lambda x:x[1], reverse=True)\n",
        "    d = pd.DataFrame(sims_sorted[1:num_rec+1], columns=[\"Name\", \"Similarity\"]) \n",
        "    return d"
      ]
    },
    {
      "cell_type": "code",
      "execution_count": 40,
      "metadata": {},
      "outputs": [],
      "source": [
        "recs = recommend_movie(\"toy story\", 10)"
      ]
    },
    {
      "cell_type": "code",
      "execution_count": 41,
      "metadata": {},
      "outputs": [
        {
          "name": "stdout",
          "output_type": "stream",
          "text": [
            "Recommended movies and their similarity scores to the movie you selected can be seen below:\n"
          ]
        },
        {
          "data": {
            "text/html": [
              "<div>\n",
              "<style scoped>\n",
              "    .dataframe tbody tr th:only-of-type {\n",
              "        vertical-align: middle;\n",
              "    }\n",
              "\n",
              "    .dataframe tbody tr th {\n",
              "        vertical-align: top;\n",
              "    }\n",
              "\n",
              "    .dataframe thead th {\n",
              "        text-align: right;\n",
              "    }\n",
              "</style>\n",
              "<table border=\"1\" class=\"dataframe\">\n",
              "  <thead>\n",
              "    <tr style=\"text-align: right;\">\n",
              "      <th></th>\n",
              "      <th>Name</th>\n",
              "      <th>Similarity</th>\n",
              "    </tr>\n",
              "  </thead>\n",
              "  <tbody>\n",
              "    <tr>\n",
              "      <th>0</th>\n",
              "      <td>TOY STORY 2</td>\n",
              "      <td>0.370370</td>\n",
              "    </tr>\n",
              "    <tr>\n",
              "      <th>1</th>\n",
              "      <td>TWA FLIGHT 800</td>\n",
              "      <td>0.235294</td>\n",
              "    </tr>\n",
              "    <tr>\n",
              "      <th>2</th>\n",
              "      <td>THE LEGEND OF MOR'DU</td>\n",
              "      <td>0.235294</td>\n",
              "    </tr>\n",
              "    <tr>\n",
              "      <th>3</th>\n",
              "      <td>TOY STORY 3</td>\n",
              "      <td>0.187500</td>\n",
              "    </tr>\n",
              "    <tr>\n",
              "      <th>4</th>\n",
              "      <td>MAGGIE SIMPSON IN THE LONGEST DAYCARE</td>\n",
              "      <td>0.178571</td>\n",
              "    </tr>\n",
              "    <tr>\n",
              "      <th>5</th>\n",
              "      <td>THE RED BERET</td>\n",
              "      <td>0.172414</td>\n",
              "    </tr>\n",
              "    <tr>\n",
              "      <th>6</th>\n",
              "      <td>CHAPPIE</td>\n",
              "      <td>0.138889</td>\n",
              "    </tr>\n",
              "    <tr>\n",
              "      <th>7</th>\n",
              "      <td>THE PIXAR STORY</td>\n",
              "      <td>0.086957</td>\n",
              "    </tr>\n",
              "    <tr>\n",
              "      <th>8</th>\n",
              "      <td>QUEST FOR CAMELOT</td>\n",
              "      <td>0.083333</td>\n",
              "    </tr>\n",
              "    <tr>\n",
              "      <th>9</th>\n",
              "      <td>ERNEST GOES TO SCHOOL</td>\n",
              "      <td>0.076923</td>\n",
              "    </tr>\n",
              "  </tbody>\n",
              "</table>\n",
              "</div>"
            ],
            "text/plain": [
              "                                    Name  Similarity\n",
              "0                            TOY STORY 2    0.370370\n",
              "1                         TWA FLIGHT 800    0.235294\n",
              "2                   THE LEGEND OF MOR'DU    0.235294\n",
              "3                            TOY STORY 3    0.187500\n",
              "4  MAGGIE SIMPSON IN THE LONGEST DAYCARE    0.178571\n",
              "5                          THE RED BERET    0.172414\n",
              "6                                CHAPPIE    0.138889\n",
              "7                        THE PIXAR STORY    0.086957\n",
              "8                      QUEST FOR CAMELOT    0.083333\n",
              "9                  ERNEST GOES TO SCHOOL    0.076923"
            ]
          },
          "execution_count": 41,
          "metadata": {},
          "output_type": "execute_result"
        }
      ],
      "source": [
        "print(\"Recommended movies and their similarity scores to the movie you selected can be seen below:\")\n",
        "recs"
      ]
    }
  ],
  "metadata": {
    "colab": {
      "collapsed_sections": [],
      "name": "RecSys_Homework.ipynb",
      "provenance": []
    },
    "kernelspec": {
      "display_name": "Python 3",
      "language": "python",
      "name": "python3"
    },
    "language_info": {
      "codemirror_mode": {
        "name": "ipython",
        "version": 3
      },
      "file_extension": ".py",
      "mimetype": "text/x-python",
      "name": "python",
      "nbconvert_exporter": "python",
      "pygments_lexer": "ipython3",
      "version": "3.8.12"
    }
  },
  "nbformat": 4,
  "nbformat_minor": 0
}
