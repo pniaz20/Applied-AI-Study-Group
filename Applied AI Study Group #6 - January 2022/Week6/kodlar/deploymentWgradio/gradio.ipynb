{
 "cells": [
  {
   "cell_type": "code",
   "execution_count": 1,
   "id": "35426a62",
   "metadata": {
    "collapsed": true
   },
   "outputs": [
    {
     "name": "stdout",
     "output_type": "stream",
     "text": [
      "Collecting gradio\n",
      "  Using cached gradio-2.7.5.2-py3-none-any.whl (871 kB)\n",
      "Requirement already satisfied: numpy in /Users/oredata/ENTER/lib/python3.8/site-packages (from gradio) (1.19.0)\n",
      "Collecting ffmpy\n",
      "  Using cached ffmpy-0.3.0.tar.gz (4.8 kB)\n",
      "Collecting pycryptodome\n",
      "  Using cached pycryptodome-3.13.0-cp35-abi3-macosx_10_9_x86_64.whl (1.5 MB)\n",
      "Requirement already satisfied: pydub in /Users/oredata/ENTER/lib/python3.8/site-packages (from gradio) (0.23.1)\n",
      "Collecting fastapi\n",
      "  Using cached fastapi-0.73.0-py3-none-any.whl (52 kB)\n",
      "Requirement already satisfied: pandas in /Users/oredata/ENTER/lib/python3.8/site-packages (from gradio) (1.2.4)\n",
      "Collecting python-multipart\n",
      "  Using cached python-multipart-0.0.5.tar.gz (32 kB)\n",
      "Requirement already satisfied: pillow in /Users/oredata/ENTER/lib/python3.8/site-packages (from gradio) (8.2.0)\n",
      "Collecting paramiko\n",
      "  Using cached paramiko-2.9.2-py2.py3-none-any.whl (210 kB)\n",
      "Collecting markdown2\n",
      "  Using cached markdown2-2.4.2-py2.py3-none-any.whl (34 kB)\n",
      "Collecting aiohttp\n",
      "  Using cached aiohttp-3.8.1-cp38-cp38-macosx_10_9_x86_64.whl (574 kB)\n",
      "Collecting uvicorn\n",
      "  Using cached uvicorn-0.17.1-py3-none-any.whl (54 kB)\n",
      "Requirement already satisfied: matplotlib in /Users/oredata/ENTER/lib/python3.8/site-packages (from gradio) (3.4.2)\n",
      "Collecting analytics-python\n",
      "  Using cached analytics_python-1.4.0-py2.py3-none-any.whl (15 kB)\n",
      "Requirement already satisfied: requests in /Users/oredata/ENTER/lib/python3.8/site-packages (from gradio) (2.26.0)\n",
      "Collecting async-timeout<5.0,>=4.0.0a3\n",
      "  Downloading async_timeout-4.0.2-py3-none-any.whl (5.8 kB)\n",
      "Requirement already satisfied: attrs>=17.3.0 in /Users/oredata/ENTER/lib/python3.8/site-packages (from aiohttp->gradio) (21.2.0)\n",
      "Requirement already satisfied: charset-normalizer<3.0,>=2.0 in /Users/oredata/ENTER/lib/python3.8/site-packages (from aiohttp->gradio) (2.0.9)\n",
      "Collecting frozenlist>=1.1.1\n",
      "  Downloading frozenlist-1.3.0-cp38-cp38-macosx_10_9_x86_64.whl (36 kB)\n",
      "Collecting yarl<2.0,>=1.0\n",
      "  Using cached yarl-1.7.2-cp38-cp38-macosx_10_9_x86_64.whl (121 kB)\n",
      "Collecting aiosignal>=1.1.2\n",
      "  Downloading aiosignal-1.2.0-py3-none-any.whl (8.2 kB)\n",
      "Collecting multidict<7.0,>=4.5\n",
      "  Downloading multidict-6.0.2-cp38-cp38-macosx_10_9_x86_64.whl (28 kB)\n",
      "Requirement already satisfied: idna>=2.0 in /Users/oredata/ENTER/lib/python3.8/site-packages (from yarl<2.0,>=1.0->aiohttp->gradio) (3.3)\n",
      "Collecting monotonic>=1.5\n",
      "  Downloading monotonic-1.6-py2.py3-none-any.whl (8.2 kB)\n",
      "Requirement already satisfied: six>=1.5 in /Users/oredata/ENTER/lib/python3.8/site-packages (from analytics-python->gradio) (1.16.0)\n",
      "Collecting backoff==1.10.0\n",
      "  Downloading backoff-1.10.0-py2.py3-none-any.whl (31 kB)\n",
      "Requirement already satisfied: python-dateutil>2.1 in /Users/oredata/ENTER/lib/python3.8/site-packages (from analytics-python->gradio) (2.8.1)\n",
      "Requirement already satisfied: certifi>=2017.4.17 in /Users/oredata/ENTER/lib/python3.8/site-packages (from requests->gradio) (2021.10.8)\n",
      "Requirement already satisfied: urllib3<1.27,>=1.21.1 in /Users/oredata/ENTER/lib/python3.8/site-packages (from requests->gradio) (1.26.7)\n",
      "Requirement already satisfied: pydantic!=1.7,!=1.7.1,!=1.7.2,!=1.7.3,!=1.8,!=1.8.1,<2.0.0,>=1.6.2 in /Users/oredata/ENTER/lib/python3.8/site-packages (from fastapi->gradio) (1.9.0)\n",
      "Collecting starlette==0.17.1\n",
      "  Downloading starlette-0.17.1-py3-none-any.whl (58 kB)\n",
      "\u001b[K     |████████████████████████████████| 58 kB 1.2 MB/s eta 0:00:01\n",
      "\u001b[?25hRequirement already satisfied: anyio<4,>=3.0.0 in /Users/oredata/ENTER/lib/python3.8/site-packages (from starlette==0.17.1->fastapi->gradio) (3.1.0)\n",
      "Requirement already satisfied: sniffio>=1.1 in /Users/oredata/ENTER/lib/python3.8/site-packages (from anyio<4,>=3.0.0->starlette==0.17.1->fastapi->gradio) (1.2.0)\n",
      "Requirement already satisfied: typing-extensions>=3.7.4.3 in /Users/oredata/ENTER/lib/python3.8/site-packages (from pydantic!=1.7,!=1.7.1,!=1.7.2,!=1.7.3,!=1.8,!=1.8.1,<2.0.0,>=1.6.2->fastapi->gradio) (3.7.4.3)\n",
      "Requirement already satisfied: cycler>=0.10 in /Users/oredata/ENTER/lib/python3.8/site-packages (from matplotlib->gradio) (0.10.0)\n",
      "Requirement already satisfied: pyparsing>=2.2.1 in /Users/oredata/ENTER/lib/python3.8/site-packages (from matplotlib->gradio) (2.4.7)\n",
      "Requirement already satisfied: kiwisolver>=1.0.1 in /Users/oredata/ENTER/lib/python3.8/site-packages (from matplotlib->gradio) (1.3.1)\n",
      "Requirement already satisfied: pytz>=2017.3 in /Users/oredata/ENTER/lib/python3.8/site-packages (from pandas->gradio) (2021.1)\n",
      "Requirement already satisfied: cryptography>=2.5 in /Users/oredata/ENTER/lib/python3.8/site-packages (from paramiko->gradio) (3.4.7)\n",
      "Collecting bcrypt>=3.1.3\n",
      "  Downloading bcrypt-3.2.0-cp36-abi3-macosx_10_10_universal2.whl (49 kB)\n",
      "\u001b[K     |████████████████████████████████| 49 kB 1.1 MB/s eta 0:00:01\n",
      "\u001b[?25hCollecting pynacl>=1.0.1\n",
      "  Downloading PyNaCl-1.5.0-cp36-abi3-macosx_10_10_universal2.whl (349 kB)\n",
      "\u001b[K     |████████████████████████████████| 349 kB 962 kB/s eta 0:00:01\n",
      "\u001b[?25hRequirement already satisfied: cffi>=1.1 in /Users/oredata/ENTER/lib/python3.8/site-packages (from bcrypt>=3.1.3->paramiko->gradio) (1.14.5)\n",
      "Requirement already satisfied: pycparser in /Users/oredata/ENTER/lib/python3.8/site-packages (from cffi>=1.1->bcrypt>=3.1.3->paramiko->gradio) (2.20)\n",
      "Requirement already satisfied: click>=7.0 in /Users/oredata/ENTER/lib/python3.8/site-packages (from uvicorn->gradio) (8.0.1)\n",
      "Collecting asgiref>=3.4.0\n",
      "  Downloading asgiref-3.5.0-py3-none-any.whl (22 kB)\n",
      "Collecting h11>=0.8\n",
      "  Downloading h11-0.13.0-py3-none-any.whl (58 kB)\n",
      "\u001b[K     |████████████████████████████████| 58 kB 1.1 MB/s eta 0:00:01\n",
      "\u001b[?25hBuilding wheels for collected packages: ffmpy, python-multipart\n",
      "  Building wheel for ffmpy (setup.py) ... \u001b[?25ldone\n",
      "\u001b[?25h  Created wheel for ffmpy: filename=ffmpy-0.3.0-py3-none-any.whl size=4709 sha256=525ecdebda76573e65be9019d9c8c2f5754c8c7bf1e46636cb48be51d550563c\n",
      "  Stored in directory: /Users/oredata/Library/Caches/pip/wheels/ff/5b/59/913b443e7369dc04b61f607a746b6f7d83fb65e2e19fcc958d\n",
      "  Building wheel for python-multipart (setup.py) ... \u001b[?25ldone\n",
      "\u001b[?25h  Created wheel for python-multipart: filename=python_multipart-0.0.5-py3-none-any.whl size=31670 sha256=c3be55af06d68522f386aa3cab6acca9b1c9b5100ba2ebba0ab78b30d820d055\n",
      "  Stored in directory: /Users/oredata/Library/Caches/pip/wheels/9e/fc/1c/cf980e6413d3ee8e70cd8f39e2366b0f487e3e221aeb452eb0\n",
      "Successfully built ffmpy python-multipart\n",
      "Installing collected packages: multidict, frozenlist, yarl, starlette, pynacl, monotonic, h11, bcrypt, backoff, async-timeout, asgiref, aiosignal, uvicorn, python-multipart, pycryptodome, paramiko, markdown2, ffmpy, fastapi, analytics-python, aiohttp, gradio\n",
      "Successfully installed aiohttp-3.8.1 aiosignal-1.2.0 analytics-python-1.4.0 asgiref-3.5.0 async-timeout-4.0.2 backoff-1.10.0 bcrypt-3.2.0 fastapi-0.73.0 ffmpy-0.3.0 frozenlist-1.3.0 gradio-2.7.5.2 h11-0.13.0 markdown2-2.4.2 monotonic-1.6 multidict-6.0.2 paramiko-2.9.2 pycryptodome-3.13.0 pynacl-1.5.0 python-multipart-0.0.5 starlette-0.17.1 uvicorn-0.17.1 yarl-1.7.2\n",
      "Note: you may need to restart the kernel to use updated packages.\n"
     ]
    }
   ],
   "source": [
    "pip install gradio"
   ]
  },
  {
   "cell_type": "code",
   "execution_count": 1,
   "id": "e2b24902",
   "metadata": {},
   "outputs": [],
   "source": [
    "import gradio as gr"
   ]
  },
  {
   "cell_type": "code",
   "execution_count": 2,
   "id": "9b649e10",
   "metadata": {},
   "outputs": [],
   "source": [
    "def hello_world(name):\n",
    "    return \"Hello....\"+ name+\"!!!\""
   ]
  },
  {
   "cell_type": "code",
   "execution_count": 3,
   "id": "3fb005a0",
   "metadata": {},
   "outputs": [],
   "source": [
    "interface = gr.Interface(fn=hello_world, inputs='text', outputs='text')"
   ]
  },
  {
   "cell_type": "code",
   "execution_count": 4,
   "id": "e589de72",
   "metadata": {},
   "outputs": [
    {
     "name": "stdout",
     "output_type": "stream",
     "text": [
      "Running on local URL:  http://127.0.0.1:7860/\n",
      "\n",
      "To create a public link, set `share=True` in `launch()`.\n"
     ]
    },
    {
     "data": {
      "text/html": [
       "\n",
       "        <iframe\n",
       "            width=\"900\"\n",
       "            height=\"500\"\n",
       "            src=\"http://127.0.0.1:7860/\"\n",
       "            frameborder=\"0\"\n",
       "            allowfullscreen\n",
       "        ></iframe>\n",
       "        "
      ],
      "text/plain": [
       "<IPython.lib.display.IFrame at 0x7fa385e084f0>"
      ]
     },
     "metadata": {},
     "output_type": "display_data"
    },
    {
     "data": {
      "text/plain": [
       "(<fastapi.applications.FastAPI at 0x7fa38328f820>,\n",
       " 'http://127.0.0.1:7860/',\n",
       " None)"
      ]
     },
     "execution_count": 4,
     "metadata": {},
     "output_type": "execute_result"
    }
   ],
   "source": [
    "interface.launch()"
   ]
  },
  {
   "cell_type": "code",
   "execution_count": 12,
   "id": "b8630b3c",
   "metadata": {},
   "outputs": [],
   "source": [
    "#customize input\n",
    "interface = gr.Interface(fn = hello_world, \n",
    "                         inputs = gr.inputs.Textbox(lines=5, placeholder=\"Enter your input here...\"), \n",
    "                         outputs = 'text')"
   ]
  },
  {
   "cell_type": "code",
   "execution_count": 13,
   "id": "c362435e",
   "metadata": {},
   "outputs": [
    {
     "name": "stdout",
     "output_type": "stream",
     "text": [
      "Running on local URL:  http://127.0.0.1:7863/\n",
      "\n",
      "To create a public link, set `share=True` in `launch()`.\n"
     ]
    },
    {
     "data": {
      "text/html": [
       "\n",
       "        <iframe\n",
       "            width=\"900\"\n",
       "            height=\"500\"\n",
       "            src=\"http://127.0.0.1:7863/\"\n",
       "            frameborder=\"0\"\n",
       "            allowfullscreen\n",
       "        ></iframe>\n",
       "        "
      ],
      "text/plain": [
       "<IPython.lib.display.IFrame at 0x7fe5f7354640>"
      ]
     },
     "metadata": {},
     "output_type": "display_data"
    },
    {
     "data": {
      "text/plain": [
       "(<fastapi.applications.FastAPI at 0x7fe5f44a7d60>,\n",
       " 'http://127.0.0.1:7863/',\n",
       " None)"
      ]
     },
     "execution_count": 13,
     "metadata": {},
     "output_type": "execute_result"
    }
   ],
   "source": [
    "interface.launch()"
   ]
  },
  {
   "cell_type": "code",
   "execution_count": 6,
   "id": "13f43fd4",
   "metadata": {},
   "outputs": [],
   "source": [
    "from ObjectDetector import Detector"
   ]
  },
  {
   "cell_type": "code",
   "execution_count": 7,
   "id": "578d830b",
   "metadata": {},
   "outputs": [
    {
     "name": "stdout",
     "output_type": "stream",
     "text": [
      "Running on local URL:  http://127.0.0.1:7861/\n",
      "\n",
      "To create a public link, set `share=True` in `launch()`.\n"
     ]
    },
    {
     "data": {
      "text/html": [
       "\n",
       "        <iframe\n",
       "            width=\"900\"\n",
       "            height=\"500\"\n",
       "            src=\"http://127.0.0.1:7861/\"\n",
       "            frameborder=\"0\"\n",
       "            allowfullscreen\n",
       "        ></iframe>\n",
       "        "
      ],
      "text/plain": [
       "<IPython.lib.display.IFrame at 0x7fa385fe5460>"
      ]
     },
     "metadata": {},
     "output_type": "display_data"
    },
    {
     "data": {
      "text/plain": [
       "(<fastapi.applications.FastAPI at 0x7fa38328f820>,\n",
       " 'http://127.0.0.1:7861/',\n",
       " None)"
      ]
     },
     "execution_count": 7,
     "metadata": {},
     "output_type": "execute_result"
    }
   ],
   "source": [
    "detector = Detector()\n",
    "iface = gr.Interface(detector.detectObject, gr.inputs.Image(), \"image\",\n",
    "                    title=\"Object Detection API\",\n",
    "                    article=\"\"\"Object detection is a computer vision technique that allows us to identify and locate objects in an image or video. With this kind of identification and localization, object detection can be used to count objects in a scene and determine and track their precise locations, all while accurately labeling them.\n",
    "                             <br>\n",
    "                             <a target=\"_blank\" href=\"https://github.com/dyguay/object-detection-api\">Github Link</a>\n",
    "                             <br><br><br>\n",
    "                            <footer id=\"main-footer\">\n",
    "                                Copyright &copy; 2021\n",
    "                            </footer>\"\"\",\n",
    "                    css=\"\"\"\n",
    "                        body {\n",
    "                            background-color: #f4e1e6;\n",
    "                            text-align: center;\n",
    "                            font-size: 16px;\n",
    "                        }\n",
    "                        a {\n",
    "                            color: #096ac5;\n",
    "                        }\n",
    "\n",
    "                        a:hover {\n",
    "                            color: #096ac5;\n",
    "                          }\"\"\"\n",
    "                    )\n",
    "\n",
    "iface.launch()"
   ]
  },
  {
   "cell_type": "code",
   "execution_count": null,
   "id": "4440c09c",
   "metadata": {},
   "outputs": [],
   "source": []
  }
 ],
 "metadata": {
  "kernelspec": {
   "display_name": "Python 3",
   "language": "python",
   "name": "python3"
  },
  "language_info": {
   "codemirror_mode": {
    "name": "ipython",
    "version": 3
   },
   "file_extension": ".py",
   "mimetype": "text/x-python",
   "name": "python",
   "nbconvert_exporter": "python",
   "pygments_lexer": "ipython3",
   "version": "3.8.8"
  }
 },
 "nbformat": 4,
 "nbformat_minor": 5
}
